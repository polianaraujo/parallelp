{
 "cells": [
  {
   "cell_type": "markdown",
   "id": "b6c1c8ef",
   "metadata": {},
   "source": [
    "### 📊 Benchmark de Números Primos com OpenMP\n",
    "#### Autor: Poliana Ellen de Araújo\n",
    "##### Descrição: Análise gráfica dos tempos de execução do programa de contagem de números primos (Sequencial vs Paralelo)"
   ]
  },
  {
   "cell_type": "code",
   "execution_count": 5,
   "id": "7dd0c77f",
   "metadata": {},
   "outputs": [
    {
     "data": {
      "text/html": [
       "<div>\n",
       "<style scoped>\n",
       "    .dataframe tbody tr th:only-of-type {\n",
       "        vertical-align: middle;\n",
       "    }\n",
       "\n",
       "    .dataframe tbody tr th {\n",
       "        vertical-align: top;\n",
       "    }\n",
       "\n",
       "    .dataframe thead th {\n",
       "        text-align: right;\n",
       "    }\n",
       "</style>\n",
       "<table border=\"1\" class=\"dataframe\">\n",
       "  <thead>\n",
       "    <tr style=\"text-align: right;\">\n",
       "      <th></th>\n",
       "      <th>n</th>\n",
       "      <th>sequencial</th>\n",
       "      <th>paralelo</th>\n",
       "    </tr>\n",
       "  </thead>\n",
       "  <tbody>\n",
       "    <tr>\n",
       "      <th>0</th>\n",
       "      <td>1</td>\n",
       "      <td>0.000000</td>\n",
       "      <td>0.013346</td>\n",
       "    </tr>\n",
       "    <tr>\n",
       "      <th>1</th>\n",
       "      <td>1000001</td>\n",
       "      <td>0.138861</td>\n",
       "      <td>0.049213</td>\n",
       "    </tr>\n",
       "    <tr>\n",
       "      <th>2</th>\n",
       "      <td>2000001</td>\n",
       "      <td>0.365029</td>\n",
       "      <td>0.093942</td>\n",
       "    </tr>\n",
       "    <tr>\n",
       "      <th>3</th>\n",
       "      <td>3000001</td>\n",
       "      <td>0.640568</td>\n",
       "      <td>0.144592</td>\n",
       "    </tr>\n",
       "    <tr>\n",
       "      <th>4</th>\n",
       "      <td>4000001</td>\n",
       "      <td>0.944250</td>\n",
       "      <td>0.268328</td>\n",
       "    </tr>\n",
       "    <tr>\n",
       "      <th>5</th>\n",
       "      <td>5000001</td>\n",
       "      <td>1.295046</td>\n",
       "      <td>0.289451</td>\n",
       "    </tr>\n",
       "    <tr>\n",
       "      <th>6</th>\n",
       "      <td>6000001</td>\n",
       "      <td>1.665952</td>\n",
       "      <td>0.346312</td>\n",
       "    </tr>\n",
       "    <tr>\n",
       "      <th>7</th>\n",
       "      <td>7000001</td>\n",
       "      <td>2.099187</td>\n",
       "      <td>0.452069</td>\n",
       "    </tr>\n",
       "    <tr>\n",
       "      <th>8</th>\n",
       "      <td>8000001</td>\n",
       "      <td>2.529978</td>\n",
       "      <td>0.546516</td>\n",
       "    </tr>\n",
       "    <tr>\n",
       "      <th>9</th>\n",
       "      <td>9000001</td>\n",
       "      <td>2.953754</td>\n",
       "      <td>0.619970</td>\n",
       "    </tr>\n",
       "  </tbody>\n",
       "</table>\n",
       "</div>"
      ],
      "text/plain": [
       "         n  sequencial  paralelo\n",
       "0        1    0.000000  0.013346\n",
       "1  1000001    0.138861  0.049213\n",
       "2  2000001    0.365029  0.093942\n",
       "3  3000001    0.640568  0.144592\n",
       "4  4000001    0.944250  0.268328\n",
       "5  5000001    1.295046  0.289451\n",
       "6  6000001    1.665952  0.346312\n",
       "7  7000001    2.099187  0.452069\n",
       "8  8000001    2.529978  0.546516\n",
       "9  9000001    2.953754  0.619970"
      ]
     },
     "execution_count": 5,
     "metadata": {},
     "output_type": "execute_result"
    }
   ],
   "source": [
    "import pandas as pd\n",
    "import matplotlib.pyplot as plt\n",
    "\n",
    "# 📥 Carregar dados do CSV em dataframe\n",
    "df = pd.read_csv('resultados.csv')\n",
    "df.head()\n",
    "df"
   ]
  },
  {
   "cell_type": "markdown",
   "id": "7a6d222a",
   "metadata": {},
   "source": [
    "### Gráfico de tempo de execução"
   ]
  },
  {
   "cell_type": "code",
   "execution_count": null,
   "id": "771066a6",
   "metadata": {},
   "outputs": [],
   "source": [
    "plt.figure(figsize=(10,6))\n",
    "plt.plot(df)"
   ]
  }
 ],
 "metadata": {
  "kernelspec": {
   "display_name": "pp",
   "language": "python",
   "name": "python3"
  },
  "language_info": {
   "codemirror_mode": {
    "name": "ipython",
    "version": 3
   },
   "file_extension": ".py",
   "mimetype": "text/x-python",
   "name": "python",
   "nbconvert_exporter": "python",
   "pygments_lexer": "ipython3",
   "version": "3.12.3"
  }
 },
 "nbformat": 4,
 "nbformat_minor": 5
}
